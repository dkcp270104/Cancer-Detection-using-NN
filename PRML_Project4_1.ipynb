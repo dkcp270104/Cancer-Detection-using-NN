{
  "nbformat": 4,
  "nbformat_minor": 0,
  "metadata": {
    "colab": {
      "provenance": []
    },
    "kernelspec": {
      "name": "python3",
      "display_name": "Python 3"
    },
    "language_info": {
      "name": "python"
    },
    "accelerator": "GPU",
    "gpuClass": "standard"
  },
  "cells": [
    {
      "cell_type": "markdown",
      "source": [
        "## importing dataset"
      ],
      "metadata": {
        "id": "rXB5Xm7f_ouS"
      }
    },
    {
      "cell_type": "code",
      "source": [
        "!pip install -q kaggle "
      ],
      "metadata": {
        "id": "VpVcdtf2EhRQ"
      },
      "execution_count": null,
      "outputs": []
    },
    {
      "cell_type": "code",
      "source": [
        "!mkdir -p ~/ .kaggle\n",
        "!cp kaggle.json ~/.kaggle/"
      ],
      "metadata": {
        "id": "THCetOpwAAKl"
      },
      "execution_count": null,
      "outputs": []
    },
    {
      "cell_type": "code",
      "source": [
        "!chmod 600 /root/.kaggle/kaggle.json"
      ],
      "metadata": {
        "id": "4DXTNPFkB0x6"
      },
      "execution_count": null,
      "outputs": []
    },
    {
      "cell_type": "code",
      "source": [
        "!kaggle competitions download -c histopathologic-cancer-detection"
      ],
      "metadata": {
        "id": "2xZDuz8mAGrc",
        "outputId": "c00e91fb-2402-4962-c06c-92999b1bb4e1",
        "colab": {
          "base_uri": "https://localhost:8080/"
        }
      },
      "execution_count": null,
      "outputs": [
        {
          "output_type": "stream",
          "name": "stdout",
          "text": [
            "Downloading histopathologic-cancer-detection.zip to /content\n",
            "100% 6.29G/6.31G [00:39<00:00, 160MB/s]\n",
            "100% 6.31G/6.31G [00:40<00:00, 169MB/s]\n"
          ]
        }
      ]
    },
    {
      "cell_type": "code",
      "source": [
        "import zipfile\n",
        "zip = zipfile.ZipFile('/content/histopathologic-cancer-detection.zip','r')\n",
        "zip.extractall('/content')\n",
        "zip.close()"
      ],
      "metadata": {
        "id": "q8MZ8EcjE5s9"
      },
      "execution_count": null,
      "outputs": []
    },
    {
      "cell_type": "code",
      "source": [
        "import tensorflow as tf\n",
        "from tensorflow import keras\n",
        "from keras import Sequential\n",
        "from keras.layers import Dense,Conv2D,MaxPooling2D,Flatten"
      ],
      "metadata": {
        "id": "YigFhI2VF3xm"
      },
      "execution_count": null,
      "outputs": []
    },
    {
      "cell_type": "code",
      "source": [
        "from keras.utils import image_dataset_from_directory as idfd"
      ],
      "metadata": {
        "id": "rKqnGG4yG23u"
      },
      "execution_count": null,
      "outputs": []
    },
    {
      "cell_type": "code",
      "source": [
        "import pandas as pd\n",
        "df = pd.read_csv('/content/train_labels.csv')"
      ],
      "metadata": {
        "id": "gPTMF1yOpOwW"
      },
      "execution_count": null,
      "outputs": []
    },
    {
      "cell_type": "code",
      "source": [
        "df.isnull().sum()"
      ],
      "metadata": {
        "colab": {
          "base_uri": "https://localhost:8080/"
        },
        "id": "ksORy_O7xvC_",
        "outputId": "cfdc25c1-596d-4f6b-c448-19535c99f4ff"
      },
      "execution_count": null,
      "outputs": [
        {
          "output_type": "execute_result",
          "data": {
            "text/plain": [
              "id       0\n",
              "label    0\n",
              "dtype: int64"
            ]
          },
          "metadata": {},
          "execution_count": 19
        }
      ]
    },
    {
      "cell_type": "code",
      "source": [
        "len(df)"
      ],
      "metadata": {
        "colab": {
          "base_uri": "https://localhost:8080/"
        },
        "id": "yD9-AfdIyCQ0",
        "outputId": "ea0dc390-2581-4c86-d2df-7f47f395d4db"
      },
      "execution_count": null,
      "outputs": [
        {
          "output_type": "execute_result",
          "data": {
            "text/plain": [
              "220025"
            ]
          },
          "metadata": {},
          "execution_count": 20
        }
      ]
    },
    {
      "cell_type": "code",
      "source": [
        "import os\n",
        "\n",
        "dir_path = '/content/train'\n",
        "image_exts = ['.tif']  # list of image extensions to count\n",
        "\n",
        "num_images = sum([len(files) for r, d, files in os.walk(dir_path) if any(file.lower().endswith(tuple(image_exts)) for file in files)])\n",
        "\n",
        "print(f'Total number of images in {dir_path}: {num_images}')\n"
      ],
      "metadata": {
        "colab": {
          "base_uri": "https://localhost:8080/"
        },
        "id": "imAntPSL39FM",
        "outputId": "0f278909-938d-4afc-be9f-f78890c2997c"
      },
      "execution_count": null,
      "outputs": [
        {
          "output_type": "stream",
          "name": "stdout",
          "text": [
            "Total number of images in /content/train: 220025\n"
          ]
        }
      ]
    },
    {
      "cell_type": "code",
      "source": [
        "import cv2\n",
        "import os\n",
        "\n",
        "source_dir = '/content/train'\n",
        "dest_dir = '/content/train1'\n",
        "\n",
        "os.makedirs(dest_dir, exist_ok=True)\n",
        "\n",
        "\n",
        "# create destination directory if it doesn't exist\n",
        "if not os.path.exists(dest_dir):\n",
        "    os.makedirs(dest_dir)\n",
        "\n",
        "# loop over all .tif files in source directory\n",
        "for filename in os.listdir(source_dir):\n",
        "    if filename.endswith('.tif'):\n",
        "        # read the image using OpenCV\n",
        "        img = cv2.imread(os.path.join(source_dir, filename))\n",
        "\n",
        "        # convert to RGB color space if necessary\n",
        "        if img.shape[-1] == 1:\n",
        "            img = cv2.cvtColor(img, cv2.COLOR_GRAY2RGB)\n",
        "\n",
        "        # save as .jpg in destination directory\n",
        "        dest_path = os.path.join(dest_dir, filename.replace('.tif', '.jpg'))\n",
        "        cv2.imwrite(dest_path, img)\n"
      ],
      "metadata": {
        "id": "hkxKjUwGXxD2"
      },
      "execution_count": null,
      "outputs": []
    },
    {
      "cell_type": "code",
      "source": [
        "import os\n",
        "import shutil\n",
        "import pandas as pd\n",
        "from sklearn.model_selection import train_test_split\n",
        "\n",
        "train_df, val_df = train_test_split(df, test_size=0.2)\n",
        "\n",
        "\n",
        "\n",
        "# Define the source directories and destination directories\n",
        "traindir = \"/content/train_new\"\n",
        "valdir = \"/content/val_new\"\n",
        "traincancer = \"/content/train_new/cancer\"\n",
        "trainnoncancer = \"/content/train_new/non_cancer\"\n",
        "valcancer = \"/content/val_new/cancer\"\n",
        "valnoncancer = \"/content/val_new/non_cancer\"\n",
        "# Create the destination directories if they don't exist\n",
        "os.makedirs(traindir, exist_ok=True)\n",
        "os.makedirs(valdir, exist_ok=True)\n",
        "os.makedirs(trainnoncancer, exist_ok=True)\n",
        "os.makedirs(traincancer, exist_ok=True)\n",
        "os.makedirs(valnoncancer, exist_ok=True)\n",
        "os.makedirs(valcancer, exist_ok=True)\n",
        "\n",
        "\n",
        "# Copy the images to the destination directories based on their labels\n",
        "for index, row in train_df.iterrows():\n",
        "    filename = row[\"id\"]+'.jpg'\n",
        "    label = row[\"label\"]\n",
        "    if label == 0:\n",
        "        src_path = os.path.join('/content/train1', filename)\n",
        "        dest_path = os.path.join(trainnoncancer, filename)\n",
        "    else:\n",
        "        src_path = os.path.join('/content/train1', filename)\n",
        "        dest_path = os.path.join(traincancer, filename)\n",
        "    shutil.copyfile(src_path, dest_path)\n",
        "\n",
        "  \n",
        "for index, row in val_df.iterrows():\n",
        "    filename = row[\"id\"]+'.jpg'\n",
        "    label = row[\"label\"]\n",
        "    if label == 0:\n",
        "        src_path = os.path.join('/content/train1', filename)\n",
        "        dest_path = os.path.join(valnoncancer, filename)\n",
        "    else:\n",
        "        src_path = os.path.join('/content/train1', filename)\n",
        "        dest_path = os.path.join(valcancer, filename)\n",
        "    shutil.copyfile(src_path, dest_path)\n"
      ],
      "metadata": {
        "id": "-mL7U8vTKYc0"
      },
      "execution_count": null,
      "outputs": []
    },
    {
      "cell_type": "code",
      "source": [
        "from keras.utils import image_dataset_from_directory as idfd"
      ],
      "metadata": {
        "id": "Ed_9R7mEQSnS"
      },
      "execution_count": null,
      "outputs": []
    },
    {
      "cell_type": "code",
      "source": [
        "train_ds = idfd(\n",
        "    directory = '/content/train_new',\n",
        "    labels = 'inferred',\n",
        "    label_mode = 'int',\n",
        "    batch_size= 32,\n",
        "    image_size = (256,256)\n",
        ")\n",
        "\n",
        "validation_ds = idfd(\n",
        "    directory = '/content/val_new',\n",
        "    labels = 'inferred',\n",
        "    label_mode = 'int',\n",
        "    batch_size= 32,\n",
        "    image_size = (256,256)\n",
        ")"
      ],
      "metadata": {
        "colab": {
          "base_uri": "https://localhost:8080/"
        },
        "id": "zPqGNzUJQU83",
        "outputId": "359b1709-8d6b-4125-a51f-06206652fe4e"
      },
      "execution_count": null,
      "outputs": [
        {
          "output_type": "stream",
          "name": "stdout",
          "text": [
            "Found 211058 files belonging to 2 classes.\n",
            "Found 44005 files belonging to 2 classes.\n"
          ]
        }
      ]
    },
    {
      "cell_type": "code",
      "source": [
        "def normalise_process(image,label):\n",
        "  image = tf.cast(image/255,tf.float32)\n",
        "  return image,label"
      ],
      "metadata": {
        "id": "y88h4EU8ViUf"
      },
      "execution_count": null,
      "outputs": []
    },
    {
      "cell_type": "code",
      "source": [
        "train_ds = train_ds.map(normalise_process)\n",
        "validation_ds = validation_ds.map(normalise_process)"
      ],
      "metadata": {
        "id": "Wyw3dKy7VnkJ"
      },
      "execution_count": null,
      "outputs": []
    },
    {
      "cell_type": "code",
      "source": [
        "from keras.layers import BatchNormalization,Dropout"
      ],
      "metadata": {
        "id": "wRd-VQhdVsuP"
      },
      "execution_count": null,
      "outputs": []
    },
    {
      "cell_type": "code",
      "source": [
        "model = Sequential()\n",
        "\n",
        "model.add(Conv2D(32,kernel_size=(3,3),padding='valid',activation = 'relu',input_shape =(256,256,3) ))\n",
        "model.add(BatchNormalization())\n",
        "model.add(MaxPooling2D(pool_size=(2,2),strides = 2,padding='valid'))\n",
        "\n",
        "model.add(Conv2D(64,kernel_size=(3,3),padding='valid',activation = 'relu' ))\n",
        "model.add(BatchNormalization())\n",
        "model.add(MaxPooling2D(pool_size=(2,2),strides = 2,padding='valid'))\n",
        "\n",
        "model.add(Conv2D(128,kernel_size=(3,3),padding='valid',activation = 'relu'))\n",
        "model.add(BatchNormalization())\n",
        "model.add(MaxPooling2D(pool_size=(2,2),strides = 2,padding='valid'))\n",
        "\n",
        "model.add(Flatten())\n",
        "\n",
        "model.add(Dense(128,activation = 'relu'))\n",
        "model.add(Dropout(0.1))\n",
        "model.add(Dense(64,activation = 'relu'))\n",
        "model.add(Dropout(0.1))\n",
        "model.add(Dense(1,activation = 'sigmoid'))"
      ],
      "metadata": {
        "id": "flbsITeh_x--"
      },
      "execution_count": null,
      "outputs": []
    },
    {
      "cell_type": "code",
      "source": [
        "model.compile(optimizer = 'adam',loss='binary_crossentropy',metrics=['accuracy'])"
      ],
      "metadata": {
        "id": "PLIDNR-t_zzV"
      },
      "execution_count": null,
      "outputs": []
    },
    {
      "cell_type": "code",
      "source": [
        "history = model.fit(train_ds,epochs=10,validation_data=validation_ds)"
      ],
      "metadata": {
        "colab": {
          "base_uri": "https://localhost:8080/"
        },
        "id": "cQZ2rXPH_4vO",
        "outputId": "c93eca64-f290-465a-db82-5fcfc0274b88"
      },
      "execution_count": null,
      "outputs": [
        {
          "output_type": "stream",
          "name": "stdout",
          "text": [
            "Epoch 1/10\n",
            "6596/6596 [==============================] - 712s 106ms/step - loss: 0.5493 - accuracy: 0.8048 - val_loss: 0.3927 - val_accuracy: 0.8286\n",
            "Epoch 2/10\n",
            "6596/6596 [==============================] - 685s 104ms/step - loss: 0.3653 - accuracy: 0.8476 - val_loss: 0.3846 - val_accuracy: 0.8307\n",
            "Epoch 3/10\n",
            "6596/6596 [==============================] - 686s 104ms/step - loss: 0.3269 - accuracy: 0.8657 - val_loss: 0.5981 - val_accuracy: 0.7700\n",
            "Epoch 4/10\n",
            "6596/6596 [==============================] - 689s 104ms/step - loss: 0.2960 - accuracy: 0.8792 - val_loss: 0.2642 - val_accuracy: 0.8953\n",
            "Epoch 5/10\n",
            "6596/6596 [==============================] - 702s 106ms/step - loss: 0.2796 - accuracy: 0.8880 - val_loss: 0.2813 - val_accuracy: 0.8899\n",
            "Epoch 6/10\n",
            "6596/6596 [==============================] - 669s 101ms/step - loss: 0.2546 - accuracy: 0.8980 - val_loss: 0.2941 - val_accuracy: 0.8787\n",
            "Epoch 7/10\n",
            "6596/6596 [==============================] - 692s 105ms/step - loss: 0.2405 - accuracy: 0.9049 - val_loss: 0.3247 - val_accuracy: 0.8716\n",
            "Epoch 8/10\n",
            "6596/6596 [==============================] - 690s 105ms/step - loss: 0.2182 - accuracy: 0.9141 - val_loss: 1.3935 - val_accuracy: 0.7522\n",
            "Epoch 9/10\n",
            "6596/6596 [==============================] - 688s 104ms/step - loss: 0.2026 - accuracy: 0.9209 - val_loss: 0.3433 - val_accuracy: 0.8690\n",
            "Epoch 10/10\n",
            "6596/6596 [==============================] - 692s 105ms/step - loss: 0.1891 - accuracy: 0.9269 - val_loss: 0.2202 - val_accuracy: 0.9199\n"
          ]
        }
      ]
    },
    {
      "cell_type": "code",
      "source": [
        "import matplotlib.pyplot as plt\n",
        "\n",
        "plt.plot(history.history['accuracy'],color='red',label='train')\n",
        "plt.plot(history.history['val_accuracy'],color='blue',label='validation')\n",
        "plt.legend()\n",
        "plt.show()\n",
        "\n"
      ],
      "metadata": {
        "colab": {
          "base_uri": "https://localhost:8080/",
          "height": 430
        },
        "id": "ruUjkJXBAA_c",
        "outputId": "b6572bc1-7d6f-48b5-9472-5e1ce4c28eb3"
      },
      "execution_count": null,
      "outputs": [
        {
          "output_type": "display_data",
          "data": {
            "text/plain": [
              "<Figure size 640x480 with 1 Axes>"
            ],
            "image/png": "[encoded data removed]"
          },
          "metadata": {}
        }
      ]
    },
    {
      "cell_type": "code",
      "source": [
        "import os\n",
        "\n",
        "directory = '/content/train'\n",
        "invalid_files = []\n",
        "valid_files= []\n",
        "\n",
        "for filename in df['id']:\n",
        "    filepath = os.path.join(directory, filename + '.tif')\n",
        "    if not os.path.exists(filepath):\n",
        "        invalid_files.append(filename)\n",
        "    else:\n",
        "      valid_files.append(filename)\n",
        "\n",
        "print(len(valid_files))\n"
      ],
      "metadata": {
        "colab": {
          "base_uri": "https://localhost:8080/"
        },
        "id": "TwQgJmMyABTd",
        "outputId": "cd00a0f4-a1ec-453b-ba7b-b706be3a4669"
      },
      "execution_count": null,
      "outputs": [
        {
          "output_type": "stream",
          "name": "stdout",
          "text": [
            "220025\n"
          ]
        }
      ]
    },
    {
      "cell_type": "code",
      "source": [
        "model.save('model1.h5')"
      ],
      "metadata": {
        "id": "rpIutqoIM3CW"
      },
      "execution_count": null,
      "outputs": []
    },
    {
      "cell_type": "code",
      "source": [
        "from google.colab import files\n",
        "\n",
        "files.download('/content/model1.h5')"
      ],
      "metadata": {
        "colab": {
          "base_uri": "https://localhost:8080/",
          "height": 34
        },
        "id": "W0qf_wi0opM_",
        "outputId": "fe89061a-0394-48ed-8fe2-e3543679d19f"
      },
      "execution_count": null,
      "outputs": [
        {
          "output_type": "display_data",
          "data": {
            "text/plain": [
              "<IPython.core.display.Javascript object>"
            ],
            "application/javascript": [
              "\n",
              "    async function download(id, filename, size) {\n",
              "      if (!google.colab.kernel.accessAllowed) {\n",
              "        return;\n",
              "      }\n",
              "      const div = document.createElement('div');\n",
              "      const label = document.createElement('label');\n",
              "      label.textContent = `Downloading \"${filename}\": `;\n",
              "      div.appendChild(label);\n",
              "      const progress = document.createElement('progress');\n",
              "      progress.max = size;\n",
              "      div.appendChild(progress);\n",
              "      document.body.appendChild(div);\n",
              "\n",
              "      const buffers = [];\n",
              "      let downloaded = 0;\n",
              "\n",
              "      const channel = await google.colab.kernel.comms.open(id);\n",
              "      // Send a message to notify the kernel that we're ready.\n",
              "      channel.send({})\n",
              "\n",
              "      for await (const message of channel.messages) {\n",
              "        // Send a message to notify the kernel that we're ready.\n",
              "        channel.send({})\n",
              "        if (message.buffers) {\n",
              "          for (const buffer of message.buffers) {\n",
              "            buffers.push(buffer);\n",
              "            downloaded += buffer.byteLength;\n",
              "            progress.value = downloaded;\n",
              "          }\n",
              "        }\n",
              "      }\n",
              "      const blob = new Blob(buffers, {type: 'application/binary'});\n",
              "      const a = document.createElement('a');\n",
              "      a.href = window.URL.createObjectURL(blob);\n",
              "      a.download = filename;\n",
              "      div.appendChild(a);\n",
              "      a.click();\n",
              "      div.remove();\n",
              "    }\n",
              "  "
            ]
          },
          "metadata": {}
        },
        {
          "output_type": "display_data",
          "data": {
            "text/plain": [
              "<IPython.core.display.Javascript object>"
            ],
            "application/javascript": [
              "download(\"download_c7bbefd5-bd65-4ade-afc6-9b41ed897f71\", \"model1.h5\", 178259016)"
            ]
          },
          "metadata": {}
        }
      ]
    }
  ]
}